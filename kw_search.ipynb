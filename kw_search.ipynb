{
 "cells": [
  {
   "cell_type": "code",
   "execution_count": 180,
   "metadata": {},
   "outputs": [
    {
     "name": "stderr",
     "output_type": "stream",
     "text": [
      "/var/folders/rx/m9d8zsds7ljcb8wl42_khhv40000gn/T/ipykernel_5768/2547112480.py:3: DeprecationWarning: \n",
      "Pyarrow will become a required dependency of pandas in the next major release of pandas (pandas 3.0),\n",
      "(to allow more performant data types, such as the Arrow string type, and better interoperability with other libraries)\n",
      "but was not found to be installed on your system.\n",
      "If this would cause problems for you,\n",
      "please provide us feedback at https://github.com/pandas-dev/pandas/issues/54466\n",
      "        \n",
      "  import pandas as pd\n"
     ]
    }
   ],
   "source": [
    "import re\n",
    "import pandas as pd"
   ]
  },
  {
   "cell_type": "code",
   "execution_count": 185,
   "metadata": {},
   "outputs": [],
   "source": [
    "def read_keyword_txt(path):\n",
    "    keywords = set()\n",
    "    with open(path, \"r\") as file:\n",
    "        line = file.readline()\n",
    "        while line:\n",
    "            keywords = keywords.union(set(re.split(r\"\\b\\s?\\d+\\s?\\b\", line.strip(\"\\n\"))[1:]))\n",
    "            line = file.readline()\n",
    "\n",
    "    return keywords"
   ]
  },
  {
   "cell_type": "code",
   "execution_count": 205,
   "metadata": {},
   "outputs": [],
   "source": [
    "def check_keywords(keywords, descriptions):\n",
    "    # Convert keywords list to a set for faster lookup\n",
    "    results = []\n",
    "    for description in descriptions:\n",
    "        # Split description into words\n",
    "        if not pd.isna(description):\n",
    "            words = description.split()\n",
    "            # Check if any word in the description is in the set of keywords\n",
    "            if any(word in keywords for word in words):\n",
    "                results.append(True)\n",
    "            else:\n",
    "                results.append(False)\n",
    "        else:\n",
    "            results.append(False)\n",
    "    return results"
   ]
  },
  {
   "cell_type": "code",
   "execution_count": 181,
   "metadata": {},
   "outputs": [
    {
     "data": {
      "text/html": [
       "<div>\n",
       "<style scoped>\n",
       "    .dataframe tbody tr th:only-of-type {\n",
       "        vertical-align: middle;\n",
       "    }\n",
       "\n",
       "    .dataframe tbody tr th {\n",
       "        vertical-align: top;\n",
       "    }\n",
       "\n",
       "    .dataframe thead th {\n",
       "        text-align: right;\n",
       "    }\n",
       "</style>\n",
       "<table border=\"1\" class=\"dataframe\">\n",
       "  <thead>\n",
       "    <tr style=\"text-align: right;\">\n",
       "      <th></th>\n",
       "      <th>Course</th>\n",
       "      <th>Course URL</th>\n",
       "      <th>Subject</th>\n",
       "      <th>Last Offered</th>\n",
       "      <th>Course Title</th>\n",
       "      <th>Credits Offered</th>\n",
       "      <th>Assessment of Sustainability Focused or Inclusive</th>\n",
       "      <th>Offered to UG/G/Both or Other</th>\n",
       "      <th>Justification for classification (including quotes from syllabi/course descriptions where applicable)</th>\n",
       "      <th>Description</th>\n",
       "      <th>Course Home Department</th>\n",
       "      <th>Last Catalog Year Reviewed</th>\n",
       "      <th>Unnamed: 12</th>\n",
       "      <th>The courses were counted using catalog listings with language that is aligned with the Earth Charter, covering topics such as ecological integrity, social and economic justice, and democracy and nonviolence.  Course descriptions that included terms like \"environment,\" \"sustainable/sustainability,\" and \"energy\" were counted as Sustainability-Focused courses, and the other courses that address a topic from the Earth Charter but are not centrally-focused on sustainability were considered Sustainability-Included courses.</th>\n",
       "      <th>Unnamed: 14</th>\n",
       "      <th>Unnamed: 15</th>\n",
       "      <th>Unnamed: 16</th>\n",
       "      <th>Unnamed: 17</th>\n",
       "    </tr>\n",
       "  </thead>\n",
       "  <tbody>\n",
       "    <tr>\n",
       "      <th>0</th>\n",
       "      <td>AAAS</td>\n",
       "      <td>https://courses.rice.edu/courses/courses/!SWKS...</td>\n",
       "      <td>200</td>\n",
       "      <td>Fall 2021</td>\n",
       "      <td>Knowing Blackness: Introduction To African And...</td>\n",
       "      <td>3</td>\n",
       "      <td>N</td>\n",
       "      <td>UG</td>\n",
       "      <td>Has a strong cultural emphasis of how the Afri...</td>\n",
       "      <td>An exploration of the origins and development ...</td>\n",
       "      <td>African And African American Studies</td>\n",
       "      <td>2021-2022</td>\n",
       "      <td>NaN</td>\n",
       "      <td>NaN</td>\n",
       "      <td>NaN</td>\n",
       "      <td>NaN</td>\n",
       "      <td>NaN</td>\n",
       "      <td>Percentage of Sustainability Course Offerings</td>\n",
       "    </tr>\n",
       "    <tr>\n",
       "      <th>1</th>\n",
       "      <td>AAAS</td>\n",
       "      <td>https://courses.rice.edu/courses/courses/!SWKS...</td>\n",
       "      <td>300</td>\n",
       "      <td>Spring 2022</td>\n",
       "      <td>Writing Black Lives</td>\n",
       "      <td>3</td>\n",
       "      <td>Y - Inclusive</td>\n",
       "      <td>UG</td>\n",
       "      <td>This course focuses on Black Writers and their...</td>\n",
       "      <td>In this course, students will be reading, refl...</td>\n",
       "      <td>African And African American Studies</td>\n",
       "      <td>2021-2022</td>\n",
       "      <td>NaN</td>\n",
       "      <td>NaN</td>\n",
       "      <td>NaN</td>\n",
       "      <td>NaN</td>\n",
       "      <td>NaN</td>\n",
       "      <td>27.94%</td>\n",
       "    </tr>\n",
       "    <tr>\n",
       "      <th>2</th>\n",
       "      <td>AAAS</td>\n",
       "      <td>NaN</td>\n",
       "      <td>510</td>\n",
       "      <td>Spring 2022</td>\n",
       "      <td>Intro To Diasporic Studies</td>\n",
       "      <td>3</td>\n",
       "      <td>N</td>\n",
       "      <td>G</td>\n",
       "      <td>This course is for graduate students who are i...</td>\n",
       "      <td>This is the core course for the Certificate in...</td>\n",
       "      <td>African And African American Studies</td>\n",
       "      <td>2021-2022</td>\n",
       "      <td>NaN</td>\n",
       "      <td>NaN</td>\n",
       "      <td>NaN</td>\n",
       "      <td>NaN</td>\n",
       "      <td>NaN</td>\n",
       "      <td>NaN</td>\n",
       "    </tr>\n",
       "    <tr>\n",
       "      <th>3</th>\n",
       "      <td>AAAS</td>\n",
       "      <td>NaN</td>\n",
       "      <td>600</td>\n",
       "      <td>Fall 2021</td>\n",
       "      <td>African And African American Studies Colloquium</td>\n",
       "      <td>3</td>\n",
       "      <td>N</td>\n",
       "      <td>G</td>\n",
       "      <td>This course is for graduate students who are i...</td>\n",
       "      <td>Through readings and discussions the colloquiu...</td>\n",
       "      <td>African And African American Studies</td>\n",
       "      <td>2021-2022</td>\n",
       "      <td>NaN</td>\n",
       "      <td>NaN</td>\n",
       "      <td>NaN</td>\n",
       "      <td>NaN</td>\n",
       "      <td>NaN</td>\n",
       "      <td>NaN</td>\n",
       "    </tr>\n",
       "    <tr>\n",
       "      <th>4</th>\n",
       "      <td>AFSC</td>\n",
       "      <td>https://courses.rice.edu/courses/courses/!SWKS...</td>\n",
       "      <td>101</td>\n",
       "      <td>Fall 2021</td>\n",
       "      <td>Foundation Of The Usaf I</td>\n",
       "      <td>2</td>\n",
       "      <td>N</td>\n",
       "      <td>UG</td>\n",
       "      <td>No indication of sustainability focus or inclu...</td>\n",
       "      <td>Overall roles and missions of the USAF; career...</td>\n",
       "      <td>Air Force Science</td>\n",
       "      <td>2021-2022</td>\n",
       "      <td>NaN</td>\n",
       "      <td>NaN</td>\n",
       "      <td>NaN</td>\n",
       "      <td>NaN</td>\n",
       "      <td>NaN</td>\n",
       "      <td>NaN</td>\n",
       "    </tr>\n",
       "  </tbody>\n",
       "</table>\n",
       "</div>"
      ],
      "text/plain": [
       "  Course                                         Course URL Subject  \\\n",
       "0   AAAS  https://courses.rice.edu/courses/courses/!SWKS...     200   \n",
       "1   AAAS  https://courses.rice.edu/courses/courses/!SWKS...     300   \n",
       "2   AAAS                                                NaN     510   \n",
       "3   AAAS                                                NaN     600   \n",
       "4   AFSC  https://courses.rice.edu/courses/courses/!SWKS...     101   \n",
       "\n",
       "  Last Offered                                       Course Title  \\\n",
       "0    Fall 2021  Knowing Blackness: Introduction To African And...   \n",
       "1  Spring 2022                                Writing Black Lives   \n",
       "2  Spring 2022                         Intro To Diasporic Studies   \n",
       "3    Fall 2021    African And African American Studies Colloquium   \n",
       "4    Fall 2021                           Foundation Of The Usaf I   \n",
       "\n",
       "  Credits Offered Assessment of Sustainability Focused or Inclusive  \\\n",
       "0               3                                                 N   \n",
       "1               3                                     Y - Inclusive   \n",
       "2               3                                                 N   \n",
       "3               3                                                 N   \n",
       "4               2                                                 N   \n",
       "\n",
       "  Offered to UG/G/Both or Other  \\\n",
       "0                            UG   \n",
       "1                            UG   \n",
       "2                             G   \n",
       "3                             G   \n",
       "4                            UG   \n",
       "\n",
       "  Justification for classification (including quotes from syllabi/course descriptions where applicable)  \\\n",
       "0  Has a strong cultural emphasis of how the Afri...                                                      \n",
       "1  This course focuses on Black Writers and their...                                                      \n",
       "2  This course is for graduate students who are i...                                                      \n",
       "3  This course is for graduate students who are i...                                                      \n",
       "4  No indication of sustainability focus or inclu...                                                      \n",
       "\n",
       "                                         Description  \\\n",
       "0  An exploration of the origins and development ...   \n",
       "1  In this course, students will be reading, refl...   \n",
       "2  This is the core course for the Certificate in...   \n",
       "3  Through readings and discussions the colloquiu...   \n",
       "4  Overall roles and missions of the USAF; career...   \n",
       "\n",
       "                 Course Home Department Last Catalog Year Reviewed  \\\n",
       "0  African And African American Studies                  2021-2022   \n",
       "1  African And African American Studies                  2021-2022   \n",
       "2  African And African American Studies                  2021-2022   \n",
       "3  African And African American Studies                  2021-2022   \n",
       "4                     Air Force Science                  2021-2022   \n",
       "\n",
       "   Unnamed: 12  \\\n",
       "0          NaN   \n",
       "1          NaN   \n",
       "2          NaN   \n",
       "3          NaN   \n",
       "4          NaN   \n",
       "\n",
       "   The courses were counted using catalog listings with language that is aligned with the Earth Charter, covering topics such as ecological integrity, social and economic justice, and democracy and nonviolence.  Course descriptions that included terms like \"environment,\" \"sustainable/sustainability,\" and \"energy\" were counted as Sustainability-Focused courses, and the other courses that address a topic from the Earth Charter but are not centrally-focused on sustainability were considered Sustainability-Included courses.  \\\n",
       "0                                                NaN                                                                                                                                                                                                                                                                                                                                                                                                                                                                                            \n",
       "1                                                NaN                                                                                                                                                                                                                                                                                                                                                                                                                                                                                            \n",
       "2                                                NaN                                                                                                                                                                                                                                                                                                                                                                                                                                                                                            \n",
       "3                                                NaN                                                                                                                                                                                                                                                                                                                                                                                                                                                                                            \n",
       "4                                                NaN                                                                                                                                                                                                                                                                                                                                                                                                                                                                                            \n",
       "\n",
       "   Unnamed: 14  Unnamed: 15  Unnamed: 16  \\\n",
       "0          NaN          NaN          NaN   \n",
       "1          NaN          NaN          NaN   \n",
       "2          NaN          NaN          NaN   \n",
       "3          NaN          NaN          NaN   \n",
       "4          NaN          NaN          NaN   \n",
       "\n",
       "                                     Unnamed: 17  \n",
       "0  Percentage of Sustainability Course Offerings  \n",
       "1                                         27.94%  \n",
       "2                                            NaN  \n",
       "3                                            NaN  \n",
       "4                                            NaN  "
      ]
     },
     "execution_count": 181,
     "metadata": {},
     "output_type": "execute_result"
    }
   ],
   "source": [
    "df = pd.read_csv(\"data/Sustainability Courses Offered - 1 - Course Review.csv\")\n",
    "df.head()"
   ]
  },
  {
   "cell_type": "code",
   "execution_count": 188,
   "metadata": {},
   "outputs": [
    {
     "name": "stdout",
     "output_type": "stream",
     "text": [
      "6492\n"
     ]
    }
   ],
   "source": [
    "print(len(list(df.Description)))"
   ]
  },
  {
   "cell_type": "code",
   "execution_count": 193,
   "metadata": {},
   "outputs": [
    {
     "name": "stdout",
     "output_type": "stream",
     "text": [
      "<class 'str'>\n"
     ]
    }
   ],
   "source": [
    "print(list(df.Description))"
   ]
  },
  {
   "cell_type": "code",
   "execution_count": 207,
   "metadata": {},
   "outputs": [],
   "source": [
    "total = check_keywords(read_keyword_txt(\"words.txt\"), df.Description)"
   ]
  },
  {
   "cell_type": "code",
   "execution_count": 209,
   "metadata": {},
   "outputs": [
    {
     "name": "stdout",
     "output_type": "stream",
     "text": [
      "95\n",
      "6492\n"
     ]
    }
   ],
   "source": [
    "print(sum(total))\n",
    "print(len(total))"
   ]
  }
 ],
 "metadata": {
  "kernelspec": {
   "display_name": "base",
   "language": "python",
   "name": "python3"
  },
  "language_info": {
   "codemirror_mode": {
    "name": "ipython",
    "version": 3
   },
   "file_extension": ".py",
   "mimetype": "text/x-python",
   "name": "python",
   "nbconvert_exporter": "python",
   "pygments_lexer": "ipython3",
   "version": "3.10.4"
  },
  "orig_nbformat": 4
 },
 "nbformat": 4,
 "nbformat_minor": 2
}
