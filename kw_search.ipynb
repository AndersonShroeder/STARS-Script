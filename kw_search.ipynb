{
 "cells": [
  {
   "cell_type": "code",
   "execution_count": 183,
   "metadata": {},
   "outputs": [],
   "source": [
    "import re\n",
    "import pandas as pd\n",
    "from g4f.client import Client\n",
    "from g4f.Provider import RetryProvider, Phind, FreeChatgpt, Liaobots\n",
    "import g4f.debug\n",
    "g4f.debug.logging = True"
   ]
  },
  {
   "cell_type": "code",
   "execution_count": 184,
   "metadata": {},
   "outputs": [
    {
     "data": {
      "text/html": [
       "<div>\n",
       "<style scoped>\n",
       "    .dataframe tbody tr th:only-of-type {\n",
       "        vertical-align: middle;\n",
       "    }\n",
       "\n",
       "    .dataframe tbody tr th {\n",
       "        vertical-align: top;\n",
       "    }\n",
       "\n",
       "    .dataframe thead th {\n",
       "        text-align: right;\n",
       "    }\n",
       "</style>\n",
       "<table border=\"1\" class=\"dataframe\">\n",
       "  <thead>\n",
       "    <tr style=\"text-align: right;\">\n",
       "      <th></th>\n",
       "      <th>Course</th>\n",
       "      <th>Course URL</th>\n",
       "      <th>Subject</th>\n",
       "      <th>Last Offered</th>\n",
       "      <th>Course Title</th>\n",
       "      <th>Credits Offered</th>\n",
       "      <th>Assessment of Sustainability Focused or Inclusive</th>\n",
       "      <th>Offered to UG/G/Both or Other</th>\n",
       "      <th>Justification for classification (including quotes from syllabi/course descriptions where applicable)</th>\n",
       "      <th>Description</th>\n",
       "      <th>Course Home Department</th>\n",
       "      <th>Last Catalog Year Reviewed</th>\n",
       "      <th>Unnamed: 12</th>\n",
       "      <th>The courses were counted using catalog listings with language that is aligned with the Earth Charter, covering topics such as ecological integrity, social and economic justice, and democracy and nonviolence.  Course descriptions that included terms like \"environment,\" \"sustainable/sustainability,\" and \"energy\" were counted as Sustainability-Focused courses, and the other courses that address a topic from the Earth Charter but are not centrally-focused on sustainability were considered Sustainability-Included courses.</th>\n",
       "      <th>Unnamed: 14</th>\n",
       "      <th>Unnamed: 15</th>\n",
       "      <th>Unnamed: 16</th>\n",
       "      <th>Unnamed: 17</th>\n",
       "    </tr>\n",
       "  </thead>\n",
       "  <tbody>\n",
       "    <tr>\n",
       "      <th>0</th>\n",
       "      <td>AAAS</td>\n",
       "      <td>https://courses.rice.edu/courses/courses/!SWKS...</td>\n",
       "      <td>200</td>\n",
       "      <td>Fall 2021</td>\n",
       "      <td>Knowing Blackness: Introduction To African And...</td>\n",
       "      <td>3</td>\n",
       "      <td>N</td>\n",
       "      <td>UG</td>\n",
       "      <td>Has a strong cultural emphasis of how the Afri...</td>\n",
       "      <td>An exploration of the origins and development ...</td>\n",
       "      <td>African And African American Studies</td>\n",
       "      <td>2021-2022</td>\n",
       "      <td>NaN</td>\n",
       "      <td>NaN</td>\n",
       "      <td>NaN</td>\n",
       "      <td>NaN</td>\n",
       "      <td>NaN</td>\n",
       "      <td>Percentage of Sustainability Course Offerings</td>\n",
       "    </tr>\n",
       "    <tr>\n",
       "      <th>1</th>\n",
       "      <td>AAAS</td>\n",
       "      <td>https://courses.rice.edu/courses/courses/!SWKS...</td>\n",
       "      <td>300</td>\n",
       "      <td>Spring 2022</td>\n",
       "      <td>Writing Black Lives</td>\n",
       "      <td>3</td>\n",
       "      <td>Y - Inclusive</td>\n",
       "      <td>UG</td>\n",
       "      <td>This course focuses on Black Writers and their...</td>\n",
       "      <td>In this course, students will be reading, refl...</td>\n",
       "      <td>African And African American Studies</td>\n",
       "      <td>2021-2022</td>\n",
       "      <td>NaN</td>\n",
       "      <td>NaN</td>\n",
       "      <td>NaN</td>\n",
       "      <td>NaN</td>\n",
       "      <td>NaN</td>\n",
       "      <td>27.94%</td>\n",
       "    </tr>\n",
       "    <tr>\n",
       "      <th>2</th>\n",
       "      <td>AAAS</td>\n",
       "      <td>NaN</td>\n",
       "      <td>510</td>\n",
       "      <td>Spring 2022</td>\n",
       "      <td>Intro To Diasporic Studies</td>\n",
       "      <td>3</td>\n",
       "      <td>N</td>\n",
       "      <td>G</td>\n",
       "      <td>This course is for graduate students who are i...</td>\n",
       "      <td>This is the core course for the Certificate in...</td>\n",
       "      <td>African And African American Studies</td>\n",
       "      <td>2021-2022</td>\n",
       "      <td>NaN</td>\n",
       "      <td>NaN</td>\n",
       "      <td>NaN</td>\n",
       "      <td>NaN</td>\n",
       "      <td>NaN</td>\n",
       "      <td>NaN</td>\n",
       "    </tr>\n",
       "    <tr>\n",
       "      <th>3</th>\n",
       "      <td>AAAS</td>\n",
       "      <td>NaN</td>\n",
       "      <td>600</td>\n",
       "      <td>Fall 2021</td>\n",
       "      <td>African And African American Studies Colloquium</td>\n",
       "      <td>3</td>\n",
       "      <td>N</td>\n",
       "      <td>G</td>\n",
       "      <td>This course is for graduate students who are i...</td>\n",
       "      <td>Through readings and discussions the colloquiu...</td>\n",
       "      <td>African And African American Studies</td>\n",
       "      <td>2021-2022</td>\n",
       "      <td>NaN</td>\n",
       "      <td>NaN</td>\n",
       "      <td>NaN</td>\n",
       "      <td>NaN</td>\n",
       "      <td>NaN</td>\n",
       "      <td>NaN</td>\n",
       "    </tr>\n",
       "    <tr>\n",
       "      <th>4</th>\n",
       "      <td>AFSC</td>\n",
       "      <td>https://courses.rice.edu/courses/courses/!SWKS...</td>\n",
       "      <td>101</td>\n",
       "      <td>Fall 2021</td>\n",
       "      <td>Foundation Of The Usaf I</td>\n",
       "      <td>2</td>\n",
       "      <td>N</td>\n",
       "      <td>UG</td>\n",
       "      <td>No indication of sustainability focus or inclu...</td>\n",
       "      <td>Overall roles and missions of the USAF; career...</td>\n",
       "      <td>Air Force Science</td>\n",
       "      <td>2021-2022</td>\n",
       "      <td>NaN</td>\n",
       "      <td>NaN</td>\n",
       "      <td>NaN</td>\n",
       "      <td>NaN</td>\n",
       "      <td>NaN</td>\n",
       "      <td>NaN</td>\n",
       "    </tr>\n",
       "  </tbody>\n",
       "</table>\n",
       "</div>"
      ],
      "text/plain": [
       "  Course                                         Course URL Subject  \\\n",
       "0   AAAS  https://courses.rice.edu/courses/courses/!SWKS...     200   \n",
       "1   AAAS  https://courses.rice.edu/courses/courses/!SWKS...     300   \n",
       "2   AAAS                                                NaN     510   \n",
       "3   AAAS                                                NaN     600   \n",
       "4   AFSC  https://courses.rice.edu/courses/courses/!SWKS...     101   \n",
       "\n",
       "  Last Offered                                       Course Title  \\\n",
       "0    Fall 2021  Knowing Blackness: Introduction To African And...   \n",
       "1  Spring 2022                                Writing Black Lives   \n",
       "2  Spring 2022                         Intro To Diasporic Studies   \n",
       "3    Fall 2021    African And African American Studies Colloquium   \n",
       "4    Fall 2021                           Foundation Of The Usaf I   \n",
       "\n",
       "  Credits Offered Assessment of Sustainability Focused or Inclusive  \\\n",
       "0               3                                                 N   \n",
       "1               3                                     Y - Inclusive   \n",
       "2               3                                                 N   \n",
       "3               3                                                 N   \n",
       "4               2                                                 N   \n",
       "\n",
       "  Offered to UG/G/Both or Other  \\\n",
       "0                            UG   \n",
       "1                            UG   \n",
       "2                             G   \n",
       "3                             G   \n",
       "4                            UG   \n",
       "\n",
       "  Justification for classification (including quotes from syllabi/course descriptions where applicable)  \\\n",
       "0  Has a strong cultural emphasis of how the Afri...                                                      \n",
       "1  This course focuses on Black Writers and their...                                                      \n",
       "2  This course is for graduate students who are i...                                                      \n",
       "3  This course is for graduate students who are i...                                                      \n",
       "4  No indication of sustainability focus or inclu...                                                      \n",
       "\n",
       "                                         Description  \\\n",
       "0  An exploration of the origins and development ...   \n",
       "1  In this course, students will be reading, refl...   \n",
       "2  This is the core course for the Certificate in...   \n",
       "3  Through readings and discussions the colloquiu...   \n",
       "4  Overall roles and missions of the USAF; career...   \n",
       "\n",
       "                 Course Home Department Last Catalog Year Reviewed  \\\n",
       "0  African And African American Studies                  2021-2022   \n",
       "1  African And African American Studies                  2021-2022   \n",
       "2  African And African American Studies                  2021-2022   \n",
       "3  African And African American Studies                  2021-2022   \n",
       "4                     Air Force Science                  2021-2022   \n",
       "\n",
       "   Unnamed: 12  \\\n",
       "0          NaN   \n",
       "1          NaN   \n",
       "2          NaN   \n",
       "3          NaN   \n",
       "4          NaN   \n",
       "\n",
       "   The courses were counted using catalog listings with language that is aligned with the Earth Charter, covering topics such as ecological integrity, social and economic justice, and democracy and nonviolence.  Course descriptions that included terms like \"environment,\" \"sustainable/sustainability,\" and \"energy\" were counted as Sustainability-Focused courses, and the other courses that address a topic from the Earth Charter but are not centrally-focused on sustainability were considered Sustainability-Included courses.  \\\n",
       "0                                                NaN                                                                                                                                                                                                                                                                                                                                                                                                                                                                                            \n",
       "1                                                NaN                                                                                                                                                                                                                                                                                                                                                                                                                                                                                            \n",
       "2                                                NaN                                                                                                                                                                                                                                                                                                                                                                                                                                                                                            \n",
       "3                                                NaN                                                                                                                                                                                                                                                                                                                                                                                                                                                                                            \n",
       "4                                                NaN                                                                                                                                                                                                                                                                                                                                                                                                                                                                                            \n",
       "\n",
       "   Unnamed: 14  Unnamed: 15  Unnamed: 16  \\\n",
       "0          NaN          NaN          NaN   \n",
       "1          NaN          NaN          NaN   \n",
       "2          NaN          NaN          NaN   \n",
       "3          NaN          NaN          NaN   \n",
       "4          NaN          NaN          NaN   \n",
       "\n",
       "                                     Unnamed: 17  \n",
       "0  Percentage of Sustainability Course Offerings  \n",
       "1                                         27.94%  \n",
       "2                                            NaN  \n",
       "3                                            NaN  \n",
       "4                                            NaN  "
      ]
     },
     "execution_count": 184,
     "metadata": {},
     "output_type": "execute_result"
    }
   ],
   "source": [
    "df = pd.read_csv(\"data/Sustainability Courses Offered - 1 - Course Review.csv\")\n",
    "df.head()"
   ]
  },
  {
   "cell_type": "code",
   "execution_count": 185,
   "metadata": {},
   "outputs": [],
   "source": [
    "def create_client():\n",
    "    provider=RetryProvider([Phind, FreeChatgpt, Liaobots], shuffle=False)\n",
    "    client = Client(\n",
    "        provider=provider\n",
    "    )\n",
    "\n",
    "    return client, provider"
   ]
  },
  {
   "cell_type": "code",
   "execution_count": 186,
   "metadata": {},
   "outputs": [],
   "source": [
    "def generate_prompts(descriptions):\n",
    "    prompts = []\n",
    "    for i in descriptions:\n",
    "        prompt = f\"\"\"A course description is provided below:\\n\\n{i}\\n\\nBased on this course description does this class promote sustainability? \n",
    "                    Please assess it with a 1 (sustainable) or 0 (not sustainable) and provide a one sentence explanation why.\n",
    "                    The format should be 1 or 0: (Reasoning) (newline)\"\"\"\n",
    "        prompts.append(prompt)\n",
    "\n",
    "    return prompts"
   ]
  },
  {
   "cell_type": "code",
   "execution_count": 187,
   "metadata": {},
   "outputs": [],
   "source": [
    "def run_model(client, provider, prompt):\n",
    "    response = client.chat.completions.create(\n",
    "        model=\"gemini\",\n",
    "        messages=[{\"role\": \"user\", \"content\": f\"{prompt}\"}],\n",
    "        provider=provider\n",
    "    )\n",
    "\n",
    "    return response"
   ]
  },
  {
   "cell_type": "code",
   "execution_count": 188,
   "metadata": {},
   "outputs": [],
   "source": [
    "def parse_response(response):\n",
    "    eval = []\n",
    "    reason = []\n",
    "    print(response.choices[0].message.content)\n",
    "    for i, j in [string.split(': ', 1) for string in response.choices[0].message.content.split('\\n')]:\n",
    "        eval.append(i)\n",
    "        reason.append(j)\n",
    "    \n",
    "    return eval, reason"
   ]
  },
  {
   "cell_type": "code",
   "execution_count": 189,
   "metadata": {},
   "outputs": [],
   "source": [
    "client, provider = create_client()"
   ]
  },
  {
   "cell_type": "code",
   "execution_count": 190,
   "metadata": {},
   "outputs": [],
   "source": [
    "def run(client, provider, descriptions):\n",
    "    count = 100\n",
    "    evals, reasons = [], []\n",
    "    while count < len(descriptions):\n",
    "        eval, reason = parse_response(run_model(client, provider, descriptions[(count-100):count]))\n",
    "        evals += eval\n",
    "        reasons += reason\n",
    "        count += 100\n",
    "    eval, reason = parse_response(run_model(client, provider, descriptions[(count-100):]))\n",
    "    evals += eval\n",
    "    reasons += reason\n",
    "\n",
    "    return evals, reasons"
   ]
  },
  {
   "cell_type": "code",
   "execution_count": null,
   "metadata": {},
   "outputs": [],
   "source": [
    "evals, reasons = run(*create_client(), generate_prompts(df.Description))"
   ]
  },
  {
   "cell_type": "code",
   "execution_count": 191,
   "metadata": {},
   "outputs": [
    {
     "name": "stdout",
     "output_type": "stream",
     "text": [
      "Using RetryProvider provider and gemini model\n",
      "Using FreeChatgpt provider\n"
     ]
    },
    {
     "ename": "KeyboardInterrupt",
     "evalue": "",
     "output_type": "error",
     "traceback": [
      "\u001b[0;31m---------------------------------------------------------------------------\u001b[0m",
      "\u001b[0;31mKeyboardInterrupt\u001b[0m                         Traceback (most recent call last)",
      "\u001b[1;32m/Users/andersonschroeder/Documents/OAS-Script/kw_search.ipynb Cell 9\u001b[0m in \u001b[0;36m<cell line: 1>\u001b[0;34m()\u001b[0m\n\u001b[0;32m----> <a href='vscode-notebook-cell:/Users/andersonschroeder/Documents/OAS-Script/kw_search.ipynb#X14sZmlsZQ%3D%3D?line=0'>1</a>\u001b[0m response \u001b[39m=\u001b[39m run_model(\u001b[39m*\u001b[39;49mcreate_client(), generate_prompts(df\u001b[39m.\u001b[39;49mDescription))\n",
      "\u001b[1;32m/Users/andersonschroeder/Documents/OAS-Script/kw_search.ipynb Cell 9\u001b[0m in \u001b[0;36mrun_model\u001b[0;34m(client, provider, prompt)\u001b[0m\n\u001b[1;32m      <a href='vscode-notebook-cell:/Users/andersonschroeder/Documents/OAS-Script/kw_search.ipynb#X14sZmlsZQ%3D%3D?line=0'>1</a>\u001b[0m \u001b[39mdef\u001b[39;00m \u001b[39mrun_model\u001b[39m(client, provider, prompt):\n\u001b[0;32m----> <a href='vscode-notebook-cell:/Users/andersonschroeder/Documents/OAS-Script/kw_search.ipynb#X14sZmlsZQ%3D%3D?line=1'>2</a>\u001b[0m     response \u001b[39m=\u001b[39m client\u001b[39m.\u001b[39;49mchat\u001b[39m.\u001b[39;49mcompletions\u001b[39m.\u001b[39;49mcreate(\n\u001b[1;32m      <a href='vscode-notebook-cell:/Users/andersonschroeder/Documents/OAS-Script/kw_search.ipynb#X14sZmlsZQ%3D%3D?line=2'>3</a>\u001b[0m         model\u001b[39m=\u001b[39;49m\u001b[39m\"\u001b[39;49m\u001b[39mgemini\u001b[39;49m\u001b[39m\"\u001b[39;49m,\n\u001b[1;32m      <a href='vscode-notebook-cell:/Users/andersonschroeder/Documents/OAS-Script/kw_search.ipynb#X14sZmlsZQ%3D%3D?line=3'>4</a>\u001b[0m         messages\u001b[39m=\u001b[39;49m[{\u001b[39m\"\u001b[39;49m\u001b[39mrole\u001b[39;49m\u001b[39m\"\u001b[39;49m: \u001b[39m\"\u001b[39;49m\u001b[39muser\u001b[39;49m\u001b[39m\"\u001b[39;49m, \u001b[39m\"\u001b[39;49m\u001b[39mcontent\u001b[39;49m\u001b[39m\"\u001b[39;49m: \u001b[39mf\u001b[39;49m\u001b[39m\"\u001b[39;49m\u001b[39m{\u001b[39;49;00mprompt\u001b[39m}\u001b[39;49;00m\u001b[39m\"\u001b[39;49m}],\n\u001b[1;32m      <a href='vscode-notebook-cell:/Users/andersonschroeder/Documents/OAS-Script/kw_search.ipynb#X14sZmlsZQ%3D%3D?line=4'>5</a>\u001b[0m         provider\u001b[39m=\u001b[39;49mprovider\n\u001b[1;32m      <a href='vscode-notebook-cell:/Users/andersonschroeder/Documents/OAS-Script/kw_search.ipynb#X14sZmlsZQ%3D%3D?line=5'>6</a>\u001b[0m     )\n\u001b[1;32m      <a href='vscode-notebook-cell:/Users/andersonschroeder/Documents/OAS-Script/kw_search.ipynb#X14sZmlsZQ%3D%3D?line=7'>8</a>\u001b[0m     \u001b[39mreturn\u001b[39;00m response\n",
      "File \u001b[0;32m~/Anaconda/anaconda3/envs/Test/lib/python3.10/site-packages/g4f/client.py:163\u001b[0m, in \u001b[0;36mCompletions.create\u001b[0;34m(self, messages, model, provider, stream, response_format, max_tokens, stop, api_key, ignored, ignore_working, ignore_stream, **kwargs)\u001b[0m\n\u001b[1;32m    161\u001b[0m response \u001b[39m=\u001b[39m iter_response(response, stream, response_format, max_tokens, stop)\n\u001b[1;32m    162\u001b[0m response \u001b[39m=\u001b[39m iter_append_model_and_provider(response)\n\u001b[0;32m--> 163\u001b[0m \u001b[39mreturn\u001b[39;00m response \u001b[39mif\u001b[39;00m stream \u001b[39melse\u001b[39;00m \u001b[39mnext\u001b[39;49m(response)\n",
      "File \u001b[0;32m~/Anaconda/anaconda3/envs/Test/lib/python3.10/site-packages/g4f/client.py:84\u001b[0m, in \u001b[0;36miter_append_model_and_provider\u001b[0;34m(response)\u001b[0m\n\u001b[1;32m     82\u001b[0m \u001b[39mdef\u001b[39;00m \u001b[39miter_append_model_and_provider\u001b[39m(response: IterResponse) \u001b[39m-\u001b[39m\u001b[39m>\u001b[39m IterResponse:\n\u001b[1;32m     83\u001b[0m     last_provider \u001b[39m=\u001b[39m \u001b[39mNone\u001b[39;00m\n\u001b[0;32m---> 84\u001b[0m     \u001b[39mfor\u001b[39;00m chunk \u001b[39min\u001b[39;00m response:\n\u001b[1;32m     85\u001b[0m         last_provider \u001b[39m=\u001b[39m get_last_provider(\u001b[39mTrue\u001b[39;00m) \u001b[39mif\u001b[39;00m last_provider \u001b[39mis\u001b[39;00m \u001b[39mNone\u001b[39;00m \u001b[39melse\u001b[39;00m last_provider\n\u001b[1;32m     86\u001b[0m         chunk\u001b[39m.\u001b[39mmodel \u001b[39m=\u001b[39m last_provider\u001b[39m.\u001b[39mget(\u001b[39m\"\u001b[39m\u001b[39mmodel\u001b[39m\u001b[39m\"\u001b[39m)\n",
      "File \u001b[0;32m~/Anaconda/anaconda3/envs/Test/lib/python3.10/site-packages/g4f/client.py:49\u001b[0m, in \u001b[0;36miter_response\u001b[0;34m(response, stream, response_format, max_tokens, stop)\u001b[0m\n\u001b[1;32m     47\u001b[0m finish_reason \u001b[39m=\u001b[39m \u001b[39mNone\u001b[39;00m\n\u001b[1;32m     48\u001b[0m completion_id \u001b[39m=\u001b[39m \u001b[39m'\u001b[39m\u001b[39m'\u001b[39m\u001b[39m.\u001b[39mjoin(random\u001b[39m.\u001b[39mchoices(string\u001b[39m.\u001b[39mascii_letters \u001b[39m+\u001b[39m string\u001b[39m.\u001b[39mdigits, k\u001b[39m=\u001b[39m\u001b[39m28\u001b[39m))\n\u001b[0;32m---> 49\u001b[0m \u001b[39mfor\u001b[39;00m idx, chunk \u001b[39min\u001b[39;00m \u001b[39menumerate\u001b[39m(response):\n\u001b[1;32m     50\u001b[0m     content \u001b[39m+\u001b[39m\u001b[39m=\u001b[39m \u001b[39mstr\u001b[39m(chunk)\n\u001b[1;32m     51\u001b[0m     \u001b[39mif\u001b[39;00m max_tokens \u001b[39mis\u001b[39;00m \u001b[39mnot\u001b[39;00m \u001b[39mNone\u001b[39;00m \u001b[39mand\u001b[39;00m idx \u001b[39m+\u001b[39m \u001b[39m1\u001b[39m \u001b[39m>\u001b[39m\u001b[39m=\u001b[39m max_tokens:\n",
      "File \u001b[0;32m~/Anaconda/anaconda3/envs/Test/lib/python3.10/site-packages/g4f/providers/retry_provider.py:69\u001b[0m, in \u001b[0;36mRetryProvider.create_completion\u001b[0;34m(self, model, messages, stream, **kwargs)\u001b[0m\n\u001b[1;32m     67\u001b[0m \u001b[39mif\u001b[39;00m debug\u001b[39m.\u001b[39mlogging:\n\u001b[1;32m     68\u001b[0m     \u001b[39mprint\u001b[39m(\u001b[39mf\u001b[39m\u001b[39m\"\u001b[39m\u001b[39mUsing \u001b[39m\u001b[39m{\u001b[39;00mprovider\u001b[39m.\u001b[39m\u001b[39m__name__\u001b[39m\u001b[39m}\u001b[39;00m\u001b[39m provider\u001b[39m\u001b[39m\"\u001b[39m)\n\u001b[0;32m---> 69\u001b[0m \u001b[39mfor\u001b[39;00m token \u001b[39min\u001b[39;00m provider\u001b[39m.\u001b[39mcreate_completion(model, messages, stream, \u001b[39m*\u001b[39m\u001b[39m*\u001b[39mkwargs):\n\u001b[1;32m     70\u001b[0m     \u001b[39myield\u001b[39;00m token\n\u001b[1;32m     71\u001b[0m     started \u001b[39m=\u001b[39m \u001b[39mTrue\u001b[39;00m\n",
      "File \u001b[0;32m~/Anaconda/anaconda3/envs/Test/lib/python3.10/site-packages/g4f/providers/base_provider.py:206\u001b[0m, in \u001b[0;36mAsyncGeneratorProvider.create_completion\u001b[0;34m(cls, model, messages, stream, **kwargs)\u001b[0m\n\u001b[1;32m    204\u001b[0m \u001b[39mtry\u001b[39;00m:\n\u001b[1;32m    205\u001b[0m     \u001b[39mwhile\u001b[39;00m \u001b[39mTrue\u001b[39;00m:\n\u001b[0;32m--> 206\u001b[0m         \u001b[39myield\u001b[39;00m loop\u001b[39m.\u001b[39;49mrun_until_complete(await_callback(gen\u001b[39m.\u001b[39;49m\u001b[39m__anext__\u001b[39;49m))\n\u001b[1;32m    207\u001b[0m \u001b[39mexcept\u001b[39;00m \u001b[39mStopAsyncIteration\u001b[39;00m:\n\u001b[1;32m    208\u001b[0m     \u001b[39m.\u001b[39m\u001b[39m.\u001b[39m\u001b[39m.\u001b[39m\n",
      "File \u001b[0;32m~/Anaconda/anaconda3/envs/Test/lib/python3.10/site-packages/nest_asyncio.py:83\u001b[0m, in \u001b[0;36m_patch_loop.<locals>.run_until_complete\u001b[0;34m(self, future)\u001b[0m\n\u001b[1;32m     81\u001b[0m     f\u001b[39m.\u001b[39m_log_destroy_pending \u001b[39m=\u001b[39m \u001b[39mFalse\u001b[39;00m\n\u001b[1;32m     82\u001b[0m \u001b[39mwhile\u001b[39;00m \u001b[39mnot\u001b[39;00m f\u001b[39m.\u001b[39mdone():\n\u001b[0;32m---> 83\u001b[0m     \u001b[39mself\u001b[39;49m\u001b[39m.\u001b[39;49m_run_once()\n\u001b[1;32m     84\u001b[0m     \u001b[39mif\u001b[39;00m \u001b[39mself\u001b[39m\u001b[39m.\u001b[39m_stopping:\n\u001b[1;32m     85\u001b[0m         \u001b[39mbreak\u001b[39;00m\n",
      "File \u001b[0;32m~/Anaconda/anaconda3/envs/Test/lib/python3.10/site-packages/nest_asyncio.py:106\u001b[0m, in \u001b[0;36m_patch_loop.<locals>._run_once\u001b[0;34m(self)\u001b[0m\n\u001b[1;32m     99\u001b[0m     heappop(scheduled)\n\u001b[1;32m    101\u001b[0m timeout \u001b[39m=\u001b[39m (\n\u001b[1;32m    102\u001b[0m     \u001b[39m0\u001b[39m \u001b[39mif\u001b[39;00m ready \u001b[39mor\u001b[39;00m \u001b[39mself\u001b[39m\u001b[39m.\u001b[39m_stopping\n\u001b[1;32m    103\u001b[0m     \u001b[39melse\u001b[39;00m \u001b[39mmin\u001b[39m(\u001b[39mmax\u001b[39m(\n\u001b[1;32m    104\u001b[0m         scheduled[\u001b[39m0\u001b[39m]\u001b[39m.\u001b[39m_when \u001b[39m-\u001b[39m \u001b[39mself\u001b[39m\u001b[39m.\u001b[39mtime(), \u001b[39m0\u001b[39m), \u001b[39m86400\u001b[39m) \u001b[39mif\u001b[39;00m scheduled\n\u001b[1;32m    105\u001b[0m     \u001b[39melse\u001b[39;00m \u001b[39mNone\u001b[39;00m)\n\u001b[0;32m--> 106\u001b[0m event_list \u001b[39m=\u001b[39m \u001b[39mself\u001b[39;49m\u001b[39m.\u001b[39;49m_selector\u001b[39m.\u001b[39;49mselect(timeout)\n\u001b[1;32m    107\u001b[0m \u001b[39mself\u001b[39m\u001b[39m.\u001b[39m_process_events(event_list)\n\u001b[1;32m    109\u001b[0m end_time \u001b[39m=\u001b[39m \u001b[39mself\u001b[39m\u001b[39m.\u001b[39mtime() \u001b[39m+\u001b[39m \u001b[39mself\u001b[39m\u001b[39m.\u001b[39m_clock_resolution\n",
      "File \u001b[0;32m~/Anaconda/anaconda3/envs/Test/lib/python3.10/selectors.py:562\u001b[0m, in \u001b[0;36mKqueueSelector.select\u001b[0;34m(self, timeout)\u001b[0m\n\u001b[1;32m    560\u001b[0m ready \u001b[39m=\u001b[39m []\n\u001b[1;32m    561\u001b[0m \u001b[39mtry\u001b[39;00m:\n\u001b[0;32m--> 562\u001b[0m     kev_list \u001b[39m=\u001b[39m \u001b[39mself\u001b[39;49m\u001b[39m.\u001b[39;49m_selector\u001b[39m.\u001b[39;49mcontrol(\u001b[39mNone\u001b[39;49;00m, max_ev, timeout)\n\u001b[1;32m    563\u001b[0m \u001b[39mexcept\u001b[39;00m \u001b[39mInterruptedError\u001b[39;00m:\n\u001b[1;32m    564\u001b[0m     \u001b[39mreturn\u001b[39;00m ready\n",
      "\u001b[0;31mKeyboardInterrupt\u001b[0m: "
     ]
    }
   ],
   "source": [
    "response = run_model(*create_client(), generate_prompts(df.Description))"
   ]
  },
  {
   "cell_type": "code",
   "execution_count": null,
   "metadata": {},
   "outputs": [
    {
     "name": "stdout",
     "output_type": "stream",
     "text": [
      "1: Provides an exploration of the origins and development of African Studies and African American Studies. (Introduces students to methodologies and practices that have led to and that continue to lead to knowing Africa and African-descendent people with earnest regard for the complexity and subtlety that the subjects require.)\n",
      "0: Students will be reading, reflecting, and dissecting short stories, novels, television scripts, and other works of fiction crafted by artists across the Black diaspora. (Does not promote sustainability.)\n",
      "0: Provides an introduction to cross- and multi-disciplinary approaches to the histories, cultures and experiences of African and African Diasporic people, while also introducing students to the work of Rice faculty working in the field. (Does not promote sustainability.)\n",
      "0: Through readings and discussions the colloquium highlights key issues related to African and African American studies for graduate students preparing to conduct research in the field. (Does not promote sustainability.)\n",
      "0: Overall roles and missions of the USAF; career fields available. Emphasis on military customs and courtesies, appearance standards, core values, written and personal communications. Introduction to American military history. (Does not promote sustainability.)\n",
      "0: Continuation of AFSC 101. (Does not promote sustainability.)\n",
      "0: Key historical events and milestones in the development of air power as a primary instrument of United States national security. Core values and competencies of leaders in the United States Air Force. Tenets of leadership and ethics. (Does not promote sustainability.)\n",
      "0: Continuation of AFSC 201. (Does not promote sustainability.)\n",
      "0: Leadership, management fundamentals, professional knowledge, Air Force personnel and evaluation systems, and leadership ethics. Case studies of Air Force leadership and management situations. (Does not promote sustainability.)\n",
      "0: Continuation of AFSC 301. (Does not promote sustainability.)\n",
      "0: Evolution of the role of national security in a democratic society with emphasis on policy formation, competing values, and organization. Civilian control of the military, roles of the services; functions of the Air Force Commands. (Does not promote sustainability.)\n",
      "0: Continuation of AFSC 401. (Does not promote sustainability.)\n",
      "0: This course offers a broad introduction to the human past as revealed by evolutionary studies of both biochemical and fossil evidence, and by archaeological studies of human cultural behavior. (Does not promote sustainability.)\n",
      "1: A team-taught interdisciplinary course focusing on the political, social, and economic forces that are shaping the lives of the nearly 1/2 of the world's population that lives in Asia. (Provides a selective, in-depth look at certain important areas of East, Southeast, and South Asia that reflect larger themes and problems.)\n",
      "1: A team-taught interdisciplinary course focusing on the political, social, and economic forces that are shaping the lives of the nearly 1/2 of the world's population that lives in Asia. (Provides a selective, in-depth look at certain important areas of East, Southeast, and South Asia that reflect larger themes and problems.)\n",
      "0: A survey of the major theorists and theoretical schools of social-cultural anthropology. (Does not promote sustainability.)\n",
      "0: Explores ideas of history and attitudes toward the past as culturally conditioned phenomena. Emphasizes history as a statement of cultural values as well as conceptualizations of cause, change, time, and reality. (Does not promote sustainability.)\n",
      "0: Explores ideas of history and attitudes toward the past as culturally conditioned phenomena. Emphasizes history as a statement of cultural values as well as conceptualizations of cause, change, time, and reality. (Does not promote sustainability.)\n",
      "0: This course will examine specific cultural debates and issues that have \"overflowed\" national boundaries. Topics will include student movements, democracy and citizenship, and the internationalization of professional and popular culture. (Does not promote sustainability.)\n",
      "1: This introductory course is designed to encourage ways of thinking about: Cultural China - a broad-ranging concept that includes the People's Republic of China, the newly established Special Administrative Region (SAR) of Hong Kong, the Republic of China on Taiwan, and overseas Chinese communities throughout the world. (Examines the political, social, and economic forces that are shaping the lives of the nearly 1/2 of the world's population that lives in Asia.)\n",
      "0: This course deals with masculinities in the West, concentrating on concepts of masculine protagonism and personhood. Readings explore identities constructed in realms such as law, politics, finances, art, the home, and war. (Does not promote sustainability.)\n",
      "0: This course deals with masculinities in the West, concentrating on concepts of masculine protagonism and personhood. Readings explore identities constructed in realms such as law, politics, finances, art, the home, and war. (Does not promote sustainability.)\n",
      "0: Thematic coverage of developments throughout the continent from the Lower Paleolithic to medieval times\n"
     ]
    }
   ],
   "source": [
    "eval, reason = parse_response(response)"
   ]
  },
  {
   "cell_type": "code",
   "execution_count": null,
   "metadata": {},
   "outputs": [
    {
     "name": "stdout",
     "output_type": "stream",
     "text": [
      "['1', '0', '0', '0', '0', '0', '0', '0', '0', '0', '0', '0', '0', '1', '1', '0', '0', '0', '0', '1', '0', '0', '0']\n",
      "['Provides an exploration of the origins and development of African Studies and African American Studies. (Introduces students to methodologies and practices that have led to and that continue to lead to knowing Africa and African-descendent people with earnest regard for the complexity and subtlety that the subjects require.)', 'Students will be reading, reflecting, and dissecting short stories, novels, television scripts, and other works of fiction crafted by artists across the Black diaspora. (Does not promote sustainability.)', 'Provides an introduction to cross- and multi-disciplinary approaches to the histories, cultures and experiences of African and African Diasporic people, while also introducing students to the work of Rice faculty working in the field. (Does not promote sustainability.)', 'Through readings and discussions the colloquium highlights key issues related to African and African American studies for graduate students preparing to conduct research in the field. (Does not promote sustainability.)', 'Overall roles and missions of the USAF; career fields available. Emphasis on military customs and courtesies, appearance standards, core values, written and personal communications. Introduction to American military history. (Does not promote sustainability.)', 'Continuation of AFSC 101. (Does not promote sustainability.)', 'Key historical events and milestones in the development of air power as a primary instrument of United States national security. Core values and competencies of leaders in the United States Air Force. Tenets of leadership and ethics. (Does not promote sustainability.)', 'Continuation of AFSC 201. (Does not promote sustainability.)', 'Leadership, management fundamentals, professional knowledge, Air Force personnel and evaluation systems, and leadership ethics. Case studies of Air Force leadership and management situations. (Does not promote sustainability.)', 'Continuation of AFSC 301. (Does not promote sustainability.)', 'Evolution of the role of national security in a democratic society with emphasis on policy formation, competing values, and organization. Civilian control of the military, roles of the services; functions of the Air Force Commands. (Does not promote sustainability.)', 'Continuation of AFSC 401. (Does not promote sustainability.)', 'This course offers a broad introduction to the human past as revealed by evolutionary studies of both biochemical and fossil evidence, and by archaeological studies of human cultural behavior. (Does not promote sustainability.)', \"A team-taught interdisciplinary course focusing on the political, social, and economic forces that are shaping the lives of the nearly 1/2 of the world's population that lives in Asia. (Provides a selective, in-depth look at certain important areas of East, Southeast, and South Asia that reflect larger themes and problems.)\", \"A team-taught interdisciplinary course focusing on the political, social, and economic forces that are shaping the lives of the nearly 1/2 of the world's population that lives in Asia. (Provides a selective, in-depth look at certain important areas of East, Southeast, and South Asia that reflect larger themes and problems.)\", 'A survey of the major theorists and theoretical schools of social-cultural anthropology. (Does not promote sustainability.)', 'Explores ideas of history and attitudes toward the past as culturally conditioned phenomena. Emphasizes history as a statement of cultural values as well as conceptualizations of cause, change, time, and reality. (Does not promote sustainability.)', 'Explores ideas of history and attitudes toward the past as culturally conditioned phenomena. Emphasizes history as a statement of cultural values as well as conceptualizations of cause, change, time, and reality. (Does not promote sustainability.)', 'This course will examine specific cultural debates and issues that have \"overflowed\" national boundaries. Topics will include student movements, democracy and citizenship, and the internationalization of professional and popular culture. (Does not promote sustainability.)', \"This introductory course is designed to encourage ways of thinking about: Cultural China - a broad-ranging concept that includes the People's Republic of China, the newly established Special Administrative Region (SAR) of Hong Kong, the Republic of China on Taiwan, and overseas Chinese communities throughout the world. (Examines the political, social, and economic forces that are shaping the lives of the nearly 1/2 of the world's population that lives in Asia.)\", 'This course deals with masculinities in the West, concentrating on concepts of masculine protagonism and personhood. Readings explore identities constructed in realms such as law, politics, finances, art, the home, and war. (Does not promote sustainability.)', 'This course deals with masculinities in the West, concentrating on concepts of masculine protagonism and personhood. Readings explore identities constructed in realms such as law, politics, finances, art, the home, and war. (Does not promote sustainability.)', 'Thematic coverage of developments throughout the continent from the Lower Paleolithic to medieval times']\n"
     ]
    }
   ],
   "source": [
    "print(eval)\n",
    "print(reason)"
   ]
  },
  {
   "cell_type": "code",
   "execution_count": null,
   "metadata": {},
   "outputs": [
    {
     "name": "stdout",
     "output_type": "stream",
     "text": [
      "4\n"
     ]
    }
   ],
   "source": [
    "print(sum([int(i) for i in eval]))"
   ]
  }
 ],
 "metadata": {
  "kernelspec": {
   "display_name": "base",
   "language": "python",
   "name": "python3"
  },
  "language_info": {
   "codemirror_mode": {
    "name": "ipython",
    "version": 3
   },
   "file_extension": ".py",
   "mimetype": "text/x-python",
   "name": "python",
   "nbconvert_exporter": "python",
   "pygments_lexer": "ipython3",
   "version": "3.10.4"
  },
  "orig_nbformat": 4
 },
 "nbformat": 4,
 "nbformat_minor": 2
}
